{
  "cells": [
    {
      "cell_type": "markdown",
      "metadata": {
        "id": "view-in-github",
        "colab_type": "text"
      },
      "source": [
        "<a href=\"https://colab.research.google.com/github/HeshamKhaled12/Music-Recommdation-System./blob/main/Music_Recommendation_System_.ipynb\" target=\"_parent\"><img src=\"https://colab.research.google.com/assets/colab-badge.svg\" alt=\"Open In Colab\"/></a>"
      ]
    },
    {
      "cell_type": "code",
      "execution_count": null,
      "metadata": {
        "id": "sq3CkEkLisYy",
        "outputId": "476926c6-27aa-47c5-d07e-a14c2ff3d64f"
      },
      "outputs": [
        {
          "name": "stdout",
          "output_type": "stream",
          "text": [
            "Requirement already satisfied: spotipy in c:\\users\\hesha\\anaconda3\\lib\\site-packages (2.23.0)\n",
            "Requirement already satisfied: redis>=3.5.3 in c:\\users\\hesha\\anaconda3\\lib\\site-packages (from spotipy) (5.0.1)\n",
            "Requirement already satisfied: requests>=2.25.0 in c:\\users\\hesha\\anaconda3\\lib\\site-packages (from spotipy) (2.31.0)\n",
            "Requirement already satisfied: six>=1.15.0 in c:\\users\\hesha\\appdata\\roaming\\python\\python39\\site-packages (from spotipy) (1.16.0)\n",
            "Requirement already satisfied: urllib3>=1.26.0 in c:\\users\\hesha\\anaconda3\\lib\\site-packages (from spotipy) (1.26.16)\n",
            "Requirement already satisfied: async-timeout>=4.0.2 in c:\\users\\hesha\\anaconda3\\lib\\site-packages (from redis>=3.5.3->spotipy) (4.0.2)\n",
            "Requirement already satisfied: charset-normalizer<4,>=2 in c:\\users\\hesha\\anaconda3\\lib\\site-packages (from requests>=2.25.0->spotipy) (2.0.4)\n",
            "Requirement already satisfied: idna<4,>=2.5 in c:\\users\\hesha\\anaconda3\\lib\\site-packages (from requests>=2.25.0->spotipy) (3.4)\n",
            "Requirement already satisfied: certifi>=2017.4.17 in c:\\users\\hesha\\anaconda3\\lib\\site-packages (from requests>=2.25.0->spotipy) (2023.7.22)\n",
            "Note: you may need to restart the kernel to use updated packages.\n"
          ]
        }
      ],
      "source": [
        "pip install spotipy"
      ]
    },
    {
      "cell_type": "code",
      "execution_count": null,
      "metadata": {
        "id": "GRGpm8mdlf9G"
      },
      "outputs": [],
      "source": [
        "import pandas as pd\n",
        "import numpy as np\n",
        "from sklearn.preprocessing import OneHotEncoder\n",
        "from sklearn.metrics.pairwise import cosine_similarity\n",
        "from sklearn.compose import ColumnTransformer\n",
        "from sklearn.preprocessing import MinMaxScaler\n",
        "from tqdm import tqdm"
      ]
    },
    {
      "cell_type": "code",
      "execution_count": null,
      "metadata": {
        "id": "wfXEKqEHtBRX"
      },
      "outputs": [],
      "source": [
        "import spotipy\n",
        "from spotipy.oauth2 import SpotifyClientCredentials\n",
        "\n",
        "client_id='cef9becce5514d4db83491f149ac3836'\n",
        "client_secret='dcd70aec647c491e8e965d6cc61ae0d6'\n",
        "client_credentials_manager=SpotifyClientCredentials(client_id=client_id,client_secret=client_secret)\n",
        "sp=spotipy.Spotify(client_credentials_manager=client_credentials_manager)"
      ]
    },
    {
      "cell_type": "code",
      "execution_count": null,
      "metadata": {
        "id": "MXwHqTSVxPVv"
      },
      "outputs": [],
      "source": [
        "def get_track_name(track_name):\n",
        "  tname=track_name\n",
        "  results=sp.search(q=tname,type='track',limit=1)\n",
        "  if results['tracks']['items']:\n",
        "    track=results['tracks']['items'][0]\n",
        "    track_uri=track['uri']\n",
        "    track_uri2=track_uri\n",
        "    track_features=sp.audio_features(track_uri2)\n",
        "  else:\n",
        "    print('Track not found')\n",
        "\n",
        "  return track_features\n",
        "\n"
      ]
    },
    {
      "cell_type": "code",
      "execution_count": null,
      "metadata": {
        "id": "8PwrWii7zU2l"
      },
      "outputs": [],
      "source": [
        "def df_new_track(track_name):\n",
        "  ttname=track_name\n",
        "  get_track=get_track_name(ttname)\n",
        "  new_track=pd.DataFrame(get_track)\n",
        "  new_track_drops=[\"type\",\"id\",\"track_href\",\"analysis_url\",'uri','time_signature']\n",
        "  new_track=new_track.drop(columns=new_track_drops,axis=1)\n",
        "  new_track['name']=ttname\n",
        "  new_track=new_track.sort_index(axis=1)\n",
        "\n",
        "  return new_track\n",
        "\n",
        "\n"
      ]
    },
    {
      "cell_type": "code",
      "execution_count": null,
      "metadata": {
        "id": "2BTHGNOhNM7c"
      },
      "outputs": [],
      "source": [
        "def reading_data (track_name):\n",
        "  properties=df_new_track(track_name)\n",
        "  properties.reset_index(inplace=True,drop=True)\n",
        "  data = pd.read_csv ('data.csv',on_bad_lines='skip')\n",
        "  data=data.drop_duplicates(subset=['name'])\n",
        "  dropping=[\"artists\",\"id\",\"release_date\",'popularity','explicit','year']\n",
        "  data=data.drop(columns=dropping , axis=1)\n",
        "  data.reset_index(inplace=True,drop=True)\n",
        "  data=data.sort_index(axis=1)\n",
        "  data['instrumentalness']=data['instrumentalness'].astype(float)\n",
        "\n",
        "\n",
        "  named_data=pd.concat([data,properties],axis=0)\n",
        "\n",
        "\n",
        "\n",
        "  nd=named_data.drop(['name'], axis=1)\n",
        "  normalize=nd[[ 'duration_ms', 'danceability', 'energy',\n",
        "       'key', 'loudness', 'mode', 'speechiness', 'acousticness',\n",
        "       'instrumentalness', 'liveness', 'tempo','valence']]\n",
        "  names=[ 'duration_ms',  'danceability', 'energy',\n",
        "       'key', 'loudness', 'mode', 'speechiness', 'acousticness',\n",
        "       'instrumentalness', 'liveness', 'tempo','valence']\n",
        "\n",
        "  orignal_names=named_data[names].columns\n",
        "\n",
        "\n",
        "  scaler=MinMaxScaler()\n",
        "  normalized_data=scaler.fit_transform(nd[names])\n",
        "  normalized= pd.DataFrame(normalized_data,columns=orignal_names)\n",
        "\n",
        "\n",
        "\n",
        "\n",
        "\n",
        "  return normalized,named_data"
      ]
    },
    {
      "cell_type": "code",
      "execution_count": null,
      "metadata": {
        "id": "-Gwm9jSjVRdv"
      },
      "outputs": [],
      "source": [
        "def recommndation(track_name,k):\n",
        "  recommend,name_of_data=reading_data(track_name)\n",
        "  name_of_data = name_of_data[~name_of_data.index.duplicated(keep='first')]\n",
        "\n",
        "  x=recommend.iloc[-1]\n",
        "\n",
        "  x=np.array(x)\n",
        "  x=x.reshape(1, -1)\n",
        "\n",
        "  sim=[]\n",
        "  for i in tqdm(range (len(recommend))):\n",
        "    y=np.array(recommend.iloc[i]).reshape(1, -1)\n",
        "    cs=cosine_similarity(y, x)[0][0]\n",
        "    sim.append(cs)\n",
        "\n",
        "  sim_names=pd.DataFrame({'similar':sim,})\n",
        "\n",
        "\n",
        "  final=pd.concat([sim_names,name_of_data['name']],axis=1)\n",
        "\n",
        "  final=final.sort_values(by=['similar','name'],ascending=False)\n",
        "\n",
        "\n",
        "  return print(final.iloc[1:1+k,1:1+k])\n",
        "\n",
        "\n",
        "\n"
      ]
    },
    {
      "cell_type": "code",
      "execution_count": null,
      "metadata": {
        "colab": {
          "base_uri": "https://localhost:8080/"
        },
        "id": "FWb5vDkCbiIF",
        "outputId": "78ed1f24-279d-425e-97e9-492584d655a5"
      },
      "outputs": [
        {
          "name": "stderr",
          "output_type": "stream",
          "text": [
            "100%|██████████| 133639/133639 [01:10<00:00, 1898.70it/s]\n"
          ]
        },
        {
          "name": "stdout",
          "output_type": "stream",
          "text": [
            "                              name\n",
            "53289                  Hey Memphis\n",
            "82797                 Popular Girl\n",
            "24386   Wear Your Love Like Heaven\n",
            "68261              How Sweet It Is\n",
            "44350                    La Vuelta\n",
            "44595      Star of the County Down\n",
            "65209            Ela edo konta mou\n",
            "19441                  Little Pony\n",
            "125462     I'll Have To Let Him Go\n",
            "96906      El Baile de la Cachucha\n"
          ]
        }
      ],
      "source": [
        "recommndation('moonlight',10)"
      ]
    },
    {
      "cell_type": "code",
      "execution_count": null,
      "metadata": {
        "id": "PvHEiVbpisY5"
      },
      "outputs": [],
      "source": []
    }
  ],
  "metadata": {
    "colab": {
      "provenance": [],
      "include_colab_link": true
    },
    "kernelspec": {
      "display_name": "Python 3",
      "name": "python3"
    },
    "language_info": {
      "codemirror_mode": {
        "name": "ipython",
        "version": 3
      },
      "file_extension": ".py",
      "mimetype": "text/x-python",
      "name": "python",
      "nbconvert_exporter": "python",
      "pygments_lexer": "ipython3",
      "version": "3.9.18"
    }
  },
  "nbformat": 4,
  "nbformat_minor": 0
}